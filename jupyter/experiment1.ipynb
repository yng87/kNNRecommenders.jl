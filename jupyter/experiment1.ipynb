{
 "cells": [
  {
   "cell_type": "code",
   "execution_count": 1,
   "metadata": {},
   "outputs": [],
   "source": [
    "using kNNRecommenders\n",
    "using Statistics"
   ]
  },
  {
   "cell_type": "code",
   "execution_count": 2,
   "metadata": {},
   "outputs": [],
   "source": [
    "mldata = MovieLens()\n",
    "\n",
    "load_data(mldata)\n",
    "\n",
    "split_data(mldata, random_state=220)"
   ]
  },
  {
   "cell_type": "code",
   "execution_count": 3,
   "metadata": {},
   "outputs": [],
   "source": [
    "transform_to_rating_matrix(mldata, 5)"
   ]
  },
  {
   "cell_type": "code",
   "execution_count": 4,
   "metadata": {},
   "outputs": [
    {
     "data": {
      "text/plain": [
       "6040×3883 SparseArrays.SparseMatrixCSC{Float64,Int64} with 158482 stored entries:\n",
       "  [1   ,    1]  =  1.0\n",
       "  [10  ,    1]  =  1.0\n",
       "  [19  ,    1]  =  1.0\n",
       "  [38  ,    1]  =  1.0\n",
       "  [44  ,    1]  =  1.0\n",
       "  [49  ,    1]  =  1.0\n",
       "  [51  ,    1]  =  1.0\n",
       "  [56  ,    1]  =  1.0\n",
       "  [65  ,    1]  =  1.0\n",
       "  [75  ,    1]  =  1.0\n",
       "  [76  ,    1]  =  1.0\n",
       "  [112 ,    1]  =  1.0\n",
       "  ⋮\n",
       "  [2368, 3883]  =  1.0\n",
       "  [2453, 3883]  =  1.0\n",
       "  [2473, 3883]  =  1.0\n",
       "  [2909, 3883]  =  1.0\n",
       "  [3412, 3883]  =  1.0\n",
       "  [3441, 3883]  =  1.0\n",
       "  [3483, 3883]  =  1.0\n",
       "  [3531, 3883]  =  1.0\n",
       "  [4084, 3883]  =  1.0\n",
       "  [4277, 3883]  =  1.0\n",
       "  [4448, 3883]  =  1.0\n",
       "  [4682, 3883]  =  1.0\n",
       "  [5359, 3883]  =  1.0"
      ]
     },
     "execution_count": 4,
     "metadata": {},
     "output_type": "execute_result"
    }
   ],
   "source": [
    "knn = kNNRecommender(190, 0.0, :tfidf)\n",
    "knn.rating_matrix = mldata.rating_matrix_train"
   ]
  },
  {
   "cell_type": "code",
   "execution_count": 5,
   "metadata": {},
   "outputs": [
    {
     "name": "stdout",
     "output_type": "stream",
     "text": [
      "50, 0.2649763413259778\n",
      "100, 0.2643174922519963\n",
      "150, 0.2662671590350216\n",
      "200, 0.26881530992531405\n",
      "250, 0.267047013699551\n",
      "300, 0.26634447702729547\n",
      "350, 0.26531603294471473\n",
      "400, 0.26396385037729075\n",
      "450, 0.2646075795330344\n",
      "500, 0.2644284912661152\n",
      "550, 0.2636351406884428\n",
      "600, 0.26259122260131934\n",
      "650, 0.26176728516200587\n",
      "700, 0.26093932827946215\n",
      "750, 0.2585313157068036\n",
      "800, 0.25790255165011994\n",
      "850, 0.25875992982307144\n",
      "900, 0.2584988273938613\n",
      "950, 0.2576861030702036\n",
      "1000, 0.2573952644644355\n"
     ]
    }
   ],
   "source": [
    "mean_racalls = Float64[]\n",
    "topKs = 50:50:1000\n",
    "for topK in topKs\n",
    "    knn.topK = topK\n",
    "    compute_similarity_matrix(knn)\n",
    "    recalls = evaluate_recall(knn, 20, mldata.rating_matrix_valid)\n",
    "    push!(mean_racalls, mean(recalls))\n",
    "    println(topK, \", \", mean_racalls[end])\n",
    "end"
   ]
  },
  {
   "cell_type": "code",
   "execution_count": 6,
   "metadata": {},
   "outputs": [
    {
     "name": "stdout",
     "output_type": "stream",
     "text": [
      "20: 0.2772976311383364\n",
      "40: 0.39100481050072194\n",
      "60: 0.4640784755698432\n",
      "80: 0.5204976650979063\n",
      "100: 0.5646742713786926\n"
     ]
    }
   ],
   "source": [
    "knn.topK = 200\n",
    "knn.weighting = :tfidf\n",
    "compute_similarity_matrix(knn)\n",
    "\n",
    "for topN in 20:20:100\n",
    "    recalls = evaluate_recall(knn, topN, mldata.rating_matrix_test)\n",
    "    println(topN, \": \", mean(recalls))\n",
    "end"
   ]
  },
  {
   "cell_type": "code",
   "execution_count": 7,
   "metadata": {},
   "outputs": [
    {
     "name": "stdout",
     "output_type": "stream",
     "text": [
      "20: 0.27040755802254424\n",
      "40: 0.37977224186265257\n",
      "60: 0.4537472282467779\n",
      "80: 0.5092540166420008\n",
      "100: 0.5533767141081308\n"
     ]
    }
   ],
   "source": [
    "knn.topK = 200\n",
    "knn.weighting = nothing\n",
    "compute_similarity_matrix(knn)\n",
    "\n",
    "for topN in 20:20:100\n",
    "    recalls = evaluate_recall(knn, topN, mldata.rating_matrix_test)\n",
    "    println(topN, \": \", mean(recalls))\n",
    "end"
   ]
  },
  {
   "cell_type": "code",
   "execution_count": null,
   "metadata": {},
   "outputs": [],
   "source": []
  }
 ],
 "metadata": {
  "kernelspec": {
   "display_name": "Julia 1.5.0",
   "language": "julia",
   "name": "julia-1.5"
  },
  "language_info": {
   "file_extension": ".jl",
   "mimetype": "application/julia",
   "name": "julia",
   "version": "1.5.0"
  }
 },
 "nbformat": 4,
 "nbformat_minor": 4
}
